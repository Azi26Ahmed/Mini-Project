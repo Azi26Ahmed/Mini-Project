{
 "cells": [
  {
   "cell_type": "code",
   "execution_count": 237,
   "id": "765ee9f1-09db-4c89-b6b8-e5a3c6144641",
   "metadata": {},
   "outputs": [],
   "source": [
    "import pandas as pd\n",
    "import warnings\n",
    "warnings.filterwarnings('ignore')\n"
   ]
  },
  {
   "cell_type": "code",
   "execution_count": 238,
   "id": "df953bfe-fa02-41be-b9a1-f2f53b5f3853",
   "metadata": {},
   "outputs": [],
   "source": [
    "import seaborn as sns\n",
    "import matplotlib.pyplot as plt\n",
    "from sklearn.preprocessing import StandardScaler,OrdinalEncoder\n",
    "from sklearn.metrics import r2_score\n",
    "from sklearn.model_selection import cross_val_score\n",
    "from sklearn.model_selection import KFold\n",
    "from sklearn.pipeline import Pipeline\n",
    "from sklearn.compose import ColumnTransformer\n",
    "from sklearn.model_selection import train_test_split\n",
    "from sklearn.linear_model import LinearRegression\n",
    "from sklearn.ensemble import RandomForestRegressor\n",
    "from xgboost import XGBRegressor\n",
    "\n",
    "\n"
   ]
  },
  {
   "cell_type": "code",
   "execution_count": 239,
   "id": "c7d2dcd5-3675-409c-b301-7055ede4042d",
   "metadata": {},
   "outputs": [],
   "source": [
    "# 1. Reading data from CSV\n",
    "def read_csv(file_path):\n",
    "    \"\"\"\n",
    "    Read data from a CSV file and return a pandas DataFrame.\n",
    "\n",
    "    Parameters:\n",
    "    - file_path: str, the path to the CSV file.\n",
    "\n",
    "    Returns:\n",
    "    - pd.DataFrame, the loaded DataFrame.\n",
    "    \"\"\"\n",
    "    return pd.read_csv(file_path)\n",
    "#2. Getting information and statistics about over dataset\n",
    "def dataset_info_statistics(data):\n",
    "    \"\"\"\n",
    "    Display information and basic statistics about the dataset.\n",
    "\n",
    "    Parameters:\n",
    "    - data: pandas DataFrame, input data.\n",
    "\n",
    "    Returns:\n",
    "    - None\n",
    "    \"\"\"\n",
    "    # Display general information about the dataset\n",
    "    print(\"Dataset Information:\")\n",
    "    print(data.info())\n",
    "    print(\"\\n\")\n",
    "\n",
    "    # Display basic statistics for numerical columns\n",
    "    print(\"Basic Statistics for Numerical Columns:\")\n",
    "    print(data.describe())\n",
    "    print(\"\\n\")\n",
    "\n",
    "#3.check for the null values in the dataset\n",
    "def check_null(data):\n",
    "    \"\"\"\n",
    "    Check for null values in the dataset.\n",
    "\n",
    "    Parameters:\n",
    "    - data: pandas DataFrame, input data.\n",
    "\n",
    "    Returns:\n",
    "    - pd.Series, the count of null values for each column.\n",
    "    \"\"\"\n",
    "    null_counts = data.isnull().sum()\n",
    "    print(\"Null Values in the Dataset:\")\n",
    "    return null_counts\n",
    "\n",
    "#4.check for duplicated rows in the dataset\n",
    "def check_duplicates(data):\n",
    "    \"\"\"\n",
    "    Check for duplicated rows in the dataset.\n",
    "\n",
    "    Parameters:\n",
    "    - data: pandas DataFrame, input data.\n",
    "\n",
    "    Returns:\n",
    "    - bool, True if any duplicated rows exist, False otherwise.\n",
    "    \"\"\"\n",
    "    return data.duplicated().any()\n",
    "\n",
    "#5. getting basic analysis for numerical and categorical columns\n",
    "def plot_graph(data):\n",
    "    \"\"\"\n",
    "    Plot graphs for numerical and categorical data in a dataframe.\n",
    "    \n",
    "    Parameters:\n",
    "    - data: Pandas Dataframe, input data.\n",
    "    \n",
    "    Returns:\n",
    "    - None\n",
    "    \n",
    "    \"\"\"\n",
    "    numerical_columns = data.select_dtypes(include=np.number).columns\n",
    "     \n",
    "    for column in numerical_columns:\n",
    "        plt.figure(figsize=(5,3))\n",
    "        sns.distplot(data[column],kde=True)\n",
    "        plt.title(f\"Histogram for {column}\")\n",
    "        plt.xlabel(column)\n",
    "        plt.ylabel(\"Frequency\")\n",
    "        plt.show()\n",
    "        \n",
    "    categorical_columns = data.select_dtypes(include='object').columns\n",
    "    for column in categorical_columns:\n",
    "        plt.figure(figsize=(5, 3))\n",
    "        sns.countplot(data[column])\n",
    "        plt.title(f'Countplot for {column}')\n",
    "        plt.xlabel(column)\n",
    "        plt.ylabel('Count')\n",
    "        plt.xticks(rotation=45)\n",
    "        plt.show()\n",
    "    \n",
    "#6. Seperate feature and target\n",
    "def seperate_features_target(data,target_column):\n",
    "    \"\"\"\n",
    "    Separate features and target variable\n",
    "    \n",
    "    Parameters: \n",
    "    - data: pandas DataFrame, input data.\n",
    "    - target_column: str, the column representing the target varible.\n",
    "    \n",
    "    Returns:\n",
    "    - X: pandas DataFrame, features.\n",
    "    - y: pandas Series, target variable.\n",
    "    \n",
    "    \"\"\"\n",
    "    \n",
    "    X = data.drop(columns=[target_column],axis=1)\n",
    "    y = data[target_column]\n",
    "    \n",
    "    return X,y\n",
    "#7. Train test split\n",
    "def perform_train_test_split(X, y, test_size=0.20, random_state=42):\n",
    "    \"\"\"\n",
    "    Perform train-test split on the dataset.\n",
    "\n",
    "    Parameters:\n",
    "    - X: pandas DataFrame, features.\n",
    "    - y: pandas Series, target variable.\n",
    "    - test_size: float, optional, the proportion of the dataset to include in the test split (default is 0.2).\n",
    "    - random_state: int or None, optional, seed for random number generation (default is None).\n",
    "\n",
    "    Returns:\n",
    "    - X_train: pandas DataFrame, features for training.\n",
    "    - X_test: pandas DataFrame, features for testing.\n",
    "    - y_train: pandas Series, target variable for training.\n",
    "    - y_test: pandas Series, target variable for testing.\n",
    "    \"\"\"\n",
    "    X_train, X_test, y_train, y_test = train_test_split(X, y, test_size=test_size, random_state=random_state)\n",
    "\n",
    "    return X_train, X_test, y_train, y_test"
   ]
  },
  {
   "cell_type": "code",
   "execution_count": 240,
   "id": "1a5cdee1-f015-4f91-85e9-34ed232aecec",
   "metadata": {},
   "outputs": [],
   "source": [
    "calories = read_csv('calories.csv')\n",
    "exercise = read_csv('exercise.csv')"
   ]
  },
  {
   "cell_type": "code",
   "execution_count": 241,
   "id": "54ed2347-9edf-44f8-9e0c-75876f6f58d9",
   "metadata": {},
   "outputs": [],
   "source": [
    "data = pd.merge(calories, exercise, on='User_ID')"
   ]
  },
  {
   "cell_type": "code",
   "execution_count": 242,
   "id": "9960275c-0d29-4e71-bca0-b440264aeeed",
   "metadata": {},
   "outputs": [
    {
     "data": {
      "text/html": [
       "<div>\n",
       "<style scoped>\n",
       "    .dataframe tbody tr th:only-of-type {\n",
       "        vertical-align: middle;\n",
       "    }\n",
       "\n",
       "    .dataframe tbody tr th {\n",
       "        vertical-align: top;\n",
       "    }\n",
       "\n",
       "    .dataframe thead th {\n",
       "        text-align: right;\n",
       "    }\n",
       "</style>\n",
       "<table border=\"1\" class=\"dataframe\">\n",
       "  <thead>\n",
       "    <tr style=\"text-align: right;\">\n",
       "      <th></th>\n",
       "      <th>User_ID</th>\n",
       "      <th>Calories</th>\n",
       "      <th>Gender</th>\n",
       "      <th>Age</th>\n",
       "      <th>Height</th>\n",
       "      <th>Weight</th>\n",
       "      <th>Duration</th>\n",
       "      <th>Heart_Rate</th>\n",
       "      <th>Body_Temp</th>\n",
       "    </tr>\n",
       "  </thead>\n",
       "  <tbody>\n",
       "    <tr>\n",
       "      <th>0</th>\n",
       "      <td>14733363</td>\n",
       "      <td>231.0</td>\n",
       "      <td>male</td>\n",
       "      <td>68</td>\n",
       "      <td>190.0</td>\n",
       "      <td>94.0</td>\n",
       "      <td>29.0</td>\n",
       "      <td>105.0</td>\n",
       "      <td>40.8</td>\n",
       "    </tr>\n",
       "    <tr>\n",
       "      <th>1</th>\n",
       "      <td>14861698</td>\n",
       "      <td>66.0</td>\n",
       "      <td>female</td>\n",
       "      <td>20</td>\n",
       "      <td>166.0</td>\n",
       "      <td>60.0</td>\n",
       "      <td>14.0</td>\n",
       "      <td>94.0</td>\n",
       "      <td>40.3</td>\n",
       "    </tr>\n",
       "    <tr>\n",
       "      <th>2</th>\n",
       "      <td>11179863</td>\n",
       "      <td>26.0</td>\n",
       "      <td>male</td>\n",
       "      <td>69</td>\n",
       "      <td>179.0</td>\n",
       "      <td>79.0</td>\n",
       "      <td>5.0</td>\n",
       "      <td>88.0</td>\n",
       "      <td>38.7</td>\n",
       "    </tr>\n",
       "    <tr>\n",
       "      <th>3</th>\n",
       "      <td>16180408</td>\n",
       "      <td>71.0</td>\n",
       "      <td>female</td>\n",
       "      <td>34</td>\n",
       "      <td>179.0</td>\n",
       "      <td>71.0</td>\n",
       "      <td>13.0</td>\n",
       "      <td>100.0</td>\n",
       "      <td>40.5</td>\n",
       "    </tr>\n",
       "    <tr>\n",
       "      <th>4</th>\n",
       "      <td>17771927</td>\n",
       "      <td>35.0</td>\n",
       "      <td>female</td>\n",
       "      <td>27</td>\n",
       "      <td>154.0</td>\n",
       "      <td>58.0</td>\n",
       "      <td>10.0</td>\n",
       "      <td>81.0</td>\n",
       "      <td>39.8</td>\n",
       "    </tr>\n",
       "  </tbody>\n",
       "</table>\n",
       "</div>"
      ],
      "text/plain": [
       "    User_ID  Calories  Gender  Age  Height  Weight  Duration  Heart_Rate  \\\n",
       "0  14733363     231.0    male   68   190.0    94.0      29.0       105.0   \n",
       "1  14861698      66.0  female   20   166.0    60.0      14.0        94.0   \n",
       "2  11179863      26.0    male   69   179.0    79.0       5.0        88.0   \n",
       "3  16180408      71.0  female   34   179.0    71.0      13.0       100.0   \n",
       "4  17771927      35.0  female   27   154.0    58.0      10.0        81.0   \n",
       "\n",
       "   Body_Temp  \n",
       "0       40.8  \n",
       "1       40.3  \n",
       "2       38.7  \n",
       "3       40.5  \n",
       "4       39.8  "
      ]
     },
     "execution_count": 242,
     "metadata": {},
     "output_type": "execute_result"
    }
   ],
   "source": [
    "data.head()"
   ]
  },
  {
   "cell_type": "code",
   "execution_count": 243,
   "id": "989e26fb-3a70-445c-8a2e-f13914f2136a",
   "metadata": {},
   "outputs": [
    {
     "name": "stdout",
     "output_type": "stream",
     "text": [
      "Dataset Information:\n",
      "<class 'pandas.core.frame.DataFrame'>\n",
      "RangeIndex: 15000 entries, 0 to 14999\n",
      "Data columns (total 9 columns):\n",
      " #   Column      Non-Null Count  Dtype  \n",
      "---  ------      --------------  -----  \n",
      " 0   User_ID     15000 non-null  int64  \n",
      " 1   Calories    15000 non-null  float64\n",
      " 2   Gender      15000 non-null  object \n",
      " 3   Age         15000 non-null  int64  \n",
      " 4   Height      15000 non-null  float64\n",
      " 5   Weight      15000 non-null  float64\n",
      " 6   Duration    15000 non-null  float64\n",
      " 7   Heart_Rate  15000 non-null  float64\n",
      " 8   Body_Temp   15000 non-null  float64\n",
      "dtypes: float64(6), int64(2), object(1)\n",
      "memory usage: 1.0+ MB\n",
      "None\n",
      "\n",
      "\n",
      "Basic Statistics for Numerical Columns:\n",
      "            User_ID      Calories           Age        Height        Weight  \\\n",
      "count  1.500000e+04  15000.000000  15000.000000  15000.000000  15000.000000   \n",
      "mean   1.497736e+07     89.539533     42.789800    174.465133     74.966867   \n",
      "std    2.872851e+06     62.456978     16.980264     14.258114     15.035657   \n",
      "min    1.000116e+07      1.000000     20.000000    123.000000     36.000000   \n",
      "25%    1.247419e+07     35.000000     28.000000    164.000000     63.000000   \n",
      "50%    1.499728e+07     79.000000     39.000000    175.000000     74.000000   \n",
      "75%    1.744928e+07    138.000000     56.000000    185.000000     87.000000   \n",
      "max    1.999965e+07    314.000000     79.000000    222.000000    132.000000   \n",
      "\n",
      "           Duration    Heart_Rate     Body_Temp  \n",
      "count  15000.000000  15000.000000  15000.000000  \n",
      "mean      15.530600     95.518533     40.025453  \n",
      "std        8.319203      9.583328      0.779230  \n",
      "min        1.000000     67.000000     37.100000  \n",
      "25%        8.000000     88.000000     39.600000  \n",
      "50%       16.000000     96.000000     40.200000  \n",
      "75%       23.000000    103.000000     40.600000  \n",
      "max       30.000000    128.000000     41.500000  \n",
      "\n",
      "\n"
     ]
    }
   ],
   "source": [
    "dataset_info_statistics(data)"
   ]
  },
  {
   "cell_type": "code",
   "execution_count": 244,
   "id": "57fd9079-bd31-4c6e-b0b0-0b8ffc7804bf",
   "metadata": {},
   "outputs": [
    {
     "name": "stdout",
     "output_type": "stream",
     "text": [
      "Null Values in the Dataset:\n"
     ]
    },
    {
     "data": {
      "text/plain": [
       "User_ID       0\n",
       "Calories      0\n",
       "Gender        0\n",
       "Age           0\n",
       "Height        0\n",
       "Weight        0\n",
       "Duration      0\n",
       "Heart_Rate    0\n",
       "Body_Temp     0\n",
       "dtype: int64"
      ]
     },
     "execution_count": 244,
     "metadata": {},
     "output_type": "execute_result"
    }
   ],
   "source": [
    "check_null(data)"
   ]
  },
  {
   "cell_type": "code",
   "execution_count": 245,
   "id": "a224f336-c291-468e-aed1-3977fb1e1c3f",
   "metadata": {},
   "outputs": [
    {
     "data": {
      "text/plain": [
       "Index(['User_ID', 'Calories', 'Gender', 'Age', 'Height', 'Weight', 'Duration',\n",
       "       'Heart_Rate', 'Body_Temp'],\n",
       "      dtype='object')"
      ]
     },
     "execution_count": 245,
     "metadata": {},
     "output_type": "execute_result"
    }
   ],
   "source": [
    "data.columns"
   ]
  },
  {
   "cell_type": "code",
   "execution_count": 246,
   "id": "cf76204c-05ab-429c-a3f5-f6d80b78af49",
   "metadata": {},
   "outputs": [],
   "source": [
    "X,y = seperate_features_target(data,'Calories')"
   ]
  },
  {
   "cell_type": "code",
   "execution_count": 247,
   "id": "24b48497-5b9d-42e2-af46-72b13923ffc5",
   "metadata": {},
   "outputs": [],
   "source": [
    "X = X.drop(columns=['User_ID'])"
   ]
  },
  {
   "cell_type": "code",
   "execution_count": 248,
   "id": "361c2c75-1b55-49fa-9253-eb3301588736",
   "metadata": {},
   "outputs": [],
   "source": [
    "X_train,X_test,y_train,y_test = perform_train_test_split(X, y, test_size=0.20, random_state=42)"
   ]
  },
  {
   "cell_type": "code",
   "execution_count": 249,
   "id": "c47c512d-37a7-4703-a0c1-3ecc1282662d",
   "metadata": {},
   "outputs": [],
   "source": [
    "#Column Transformer and Pipeline\n",
    "preprocessor = ColumnTransformer(transformers=[\n",
    "    ('ordinal',OrdinalEncoder(),['Gender']),\n",
    "    ('num',StandardScaler(),['Age',\n",
    "                            'Height',\n",
    "                            'Weight',\n",
    "                            'Duration',\n",
    "                            'Heart_Rate',\n",
    "                            'Body_Temp']),\n",
    "],remainder='passthrough')"
   ]
  },
  {
   "cell_type": "code",
   "execution_count": 250,
   "id": "692b77d2-6719-4a88-8311-bd9aac1b2be5",
   "metadata": {},
   "outputs": [],
   "source": [
    "pipeline = Pipeline([(\"preprocessor\",preprocessor),\n",
    "                     (\"model\",LinearRegression())\n",
    "                    ])"
   ]
  },
  {
   "cell_type": "code",
   "execution_count": 251,
   "id": "0da89679-606e-4ff3-8577-8738408a8190",
   "metadata": {},
   "outputs": [],
   "source": [
    "from sklearn import set_config"
   ]
  },
  {
   "cell_type": "code",
   "execution_count": 252,
   "id": "a228cf2e-71d7-4a3d-b616-86a7d8b7e7bc",
   "metadata": {},
   "outputs": [
    {
     "data": {
      "text/html": [
       "<style>#sk-container-id-13 {color: black;background-color: white;}#sk-container-id-13 pre{padding: 0;}#sk-container-id-13 div.sk-toggleable {background-color: white;}#sk-container-id-13 label.sk-toggleable__label {cursor: pointer;display: block;width: 100%;margin-bottom: 0;padding: 0.3em;box-sizing: border-box;text-align: center;}#sk-container-id-13 label.sk-toggleable__label-arrow:before {content: \"▸\";float: left;margin-right: 0.25em;color: #696969;}#sk-container-id-13 label.sk-toggleable__label-arrow:hover:before {color: black;}#sk-container-id-13 div.sk-estimator:hover label.sk-toggleable__label-arrow:before {color: black;}#sk-container-id-13 div.sk-toggleable__content {max-height: 0;max-width: 0;overflow: hidden;text-align: left;background-color: #f0f8ff;}#sk-container-id-13 div.sk-toggleable__content pre {margin: 0.2em;color: black;border-radius: 0.25em;background-color: #f0f8ff;}#sk-container-id-13 input.sk-toggleable__control:checked~div.sk-toggleable__content {max-height: 200px;max-width: 100%;overflow: auto;}#sk-container-id-13 input.sk-toggleable__control:checked~label.sk-toggleable__label-arrow:before {content: \"▾\";}#sk-container-id-13 div.sk-estimator input.sk-toggleable__control:checked~label.sk-toggleable__label {background-color: #d4ebff;}#sk-container-id-13 div.sk-label input.sk-toggleable__control:checked~label.sk-toggleable__label {background-color: #d4ebff;}#sk-container-id-13 input.sk-hidden--visually {border: 0;clip: rect(1px 1px 1px 1px);clip: rect(1px, 1px, 1px, 1px);height: 1px;margin: -1px;overflow: hidden;padding: 0;position: absolute;width: 1px;}#sk-container-id-13 div.sk-estimator {font-family: monospace;background-color: #f0f8ff;border: 1px dotted black;border-radius: 0.25em;box-sizing: border-box;margin-bottom: 0.5em;}#sk-container-id-13 div.sk-estimator:hover {background-color: #d4ebff;}#sk-container-id-13 div.sk-parallel-item::after {content: \"\";width: 100%;border-bottom: 1px solid gray;flex-grow: 1;}#sk-container-id-13 div.sk-label:hover label.sk-toggleable__label {background-color: #d4ebff;}#sk-container-id-13 div.sk-serial::before {content: \"\";position: absolute;border-left: 1px solid gray;box-sizing: border-box;top: 0;bottom: 0;left: 50%;z-index: 0;}#sk-container-id-13 div.sk-serial {display: flex;flex-direction: column;align-items: center;background-color: white;padding-right: 0.2em;padding-left: 0.2em;position: relative;}#sk-container-id-13 div.sk-item {position: relative;z-index: 1;}#sk-container-id-13 div.sk-parallel {display: flex;align-items: stretch;justify-content: center;background-color: white;position: relative;}#sk-container-id-13 div.sk-item::before, #sk-container-id-13 div.sk-parallel-item::before {content: \"\";position: absolute;border-left: 1px solid gray;box-sizing: border-box;top: 0;bottom: 0;left: 50%;z-index: -1;}#sk-container-id-13 div.sk-parallel-item {display: flex;flex-direction: column;z-index: 1;position: relative;background-color: white;}#sk-container-id-13 div.sk-parallel-item:first-child::after {align-self: flex-end;width: 50%;}#sk-container-id-13 div.sk-parallel-item:last-child::after {align-self: flex-start;width: 50%;}#sk-container-id-13 div.sk-parallel-item:only-child::after {width: 0;}#sk-container-id-13 div.sk-dashed-wrapped {border: 1px dashed gray;margin: 0 0.4em 0.5em 0.4em;box-sizing: border-box;padding-bottom: 0.4em;background-color: white;}#sk-container-id-13 div.sk-label label {font-family: monospace;font-weight: bold;display: inline-block;line-height: 1.2em;}#sk-container-id-13 div.sk-label-container {text-align: center;}#sk-container-id-13 div.sk-container {/* jupyter's `normalize.less` sets `[hidden] { display: none; }` but bootstrap.min.css set `[hidden] { display: none !important; }` so we also need the `!important` here to be able to override the default hidden behavior on the sphinx rendered scikit-learn.org. See: https://github.com/scikit-learn/scikit-learn/issues/21755 */display: inline-block !important;position: relative;}#sk-container-id-13 div.sk-text-repr-fallback {display: none;}</style><div id=\"sk-container-id-13\" class=\"sk-top-container\"><div class=\"sk-text-repr-fallback\"><pre>Pipeline(steps=[(&#x27;preprocessor&#x27;,\n",
       "                 ColumnTransformer(remainder=&#x27;passthrough&#x27;,\n",
       "                                   transformers=[(&#x27;ordinal&#x27;, OrdinalEncoder(),\n",
       "                                                  [&#x27;Gender&#x27;]),\n",
       "                                                 (&#x27;num&#x27;, StandardScaler(),\n",
       "                                                  [&#x27;Age&#x27;, &#x27;Height&#x27;, &#x27;Weight&#x27;,\n",
       "                                                   &#x27;Duration&#x27;, &#x27;Heart_Rate&#x27;,\n",
       "                                                   &#x27;Body_Temp&#x27;])])),\n",
       "                (&#x27;model&#x27;, LinearRegression())])</pre><b>In a Jupyter environment, please rerun this cell to show the HTML representation or trust the notebook. <br />On GitHub, the HTML representation is unable to render, please try loading this page with nbviewer.org.</b></div><div class=\"sk-container\" hidden><div class=\"sk-item sk-dashed-wrapped\"><div class=\"sk-label-container\"><div class=\"sk-label sk-toggleable\"><input class=\"sk-toggleable__control sk-hidden--visually\" id=\"sk-estimator-id-109\" type=\"checkbox\" ><label for=\"sk-estimator-id-109\" class=\"sk-toggleable__label sk-toggleable__label-arrow\">Pipeline</label><div class=\"sk-toggleable__content\"><pre>Pipeline(steps=[(&#x27;preprocessor&#x27;,\n",
       "                 ColumnTransformer(remainder=&#x27;passthrough&#x27;,\n",
       "                                   transformers=[(&#x27;ordinal&#x27;, OrdinalEncoder(),\n",
       "                                                  [&#x27;Gender&#x27;]),\n",
       "                                                 (&#x27;num&#x27;, StandardScaler(),\n",
       "                                                  [&#x27;Age&#x27;, &#x27;Height&#x27;, &#x27;Weight&#x27;,\n",
       "                                                   &#x27;Duration&#x27;, &#x27;Heart_Rate&#x27;,\n",
       "                                                   &#x27;Body_Temp&#x27;])])),\n",
       "                (&#x27;model&#x27;, LinearRegression())])</pre></div></div></div><div class=\"sk-serial\"><div class=\"sk-item sk-dashed-wrapped\"><div class=\"sk-label-container\"><div class=\"sk-label sk-toggleable\"><input class=\"sk-toggleable__control sk-hidden--visually\" id=\"sk-estimator-id-110\" type=\"checkbox\" ><label for=\"sk-estimator-id-110\" class=\"sk-toggleable__label sk-toggleable__label-arrow\">preprocessor: ColumnTransformer</label><div class=\"sk-toggleable__content\"><pre>ColumnTransformer(remainder=&#x27;passthrough&#x27;,\n",
       "                  transformers=[(&#x27;ordinal&#x27;, OrdinalEncoder(), [&#x27;Gender&#x27;]),\n",
       "                                (&#x27;num&#x27;, StandardScaler(),\n",
       "                                 [&#x27;Age&#x27;, &#x27;Height&#x27;, &#x27;Weight&#x27;, &#x27;Duration&#x27;,\n",
       "                                  &#x27;Heart_Rate&#x27;, &#x27;Body_Temp&#x27;])])</pre></div></div></div><div class=\"sk-parallel\"><div class=\"sk-parallel-item\"><div class=\"sk-item\"><div class=\"sk-label-container\"><div class=\"sk-label sk-toggleable\"><input class=\"sk-toggleable__control sk-hidden--visually\" id=\"sk-estimator-id-111\" type=\"checkbox\" ><label for=\"sk-estimator-id-111\" class=\"sk-toggleable__label sk-toggleable__label-arrow\">ordinal</label><div class=\"sk-toggleable__content\"><pre>[&#x27;Gender&#x27;]</pre></div></div></div><div class=\"sk-serial\"><div class=\"sk-item\"><div class=\"sk-estimator sk-toggleable\"><input class=\"sk-toggleable__control sk-hidden--visually\" id=\"sk-estimator-id-112\" type=\"checkbox\" ><label for=\"sk-estimator-id-112\" class=\"sk-toggleable__label sk-toggleable__label-arrow\">OrdinalEncoder</label><div class=\"sk-toggleable__content\"><pre>OrdinalEncoder()</pre></div></div></div></div></div></div><div class=\"sk-parallel-item\"><div class=\"sk-item\"><div class=\"sk-label-container\"><div class=\"sk-label sk-toggleable\"><input class=\"sk-toggleable__control sk-hidden--visually\" id=\"sk-estimator-id-113\" type=\"checkbox\" ><label for=\"sk-estimator-id-113\" class=\"sk-toggleable__label sk-toggleable__label-arrow\">num</label><div class=\"sk-toggleable__content\"><pre>[&#x27;Age&#x27;, &#x27;Height&#x27;, &#x27;Weight&#x27;, &#x27;Duration&#x27;, &#x27;Heart_Rate&#x27;, &#x27;Body_Temp&#x27;]</pre></div></div></div><div class=\"sk-serial\"><div class=\"sk-item\"><div class=\"sk-estimator sk-toggleable\"><input class=\"sk-toggleable__control sk-hidden--visually\" id=\"sk-estimator-id-114\" type=\"checkbox\" ><label for=\"sk-estimator-id-114\" class=\"sk-toggleable__label sk-toggleable__label-arrow\">StandardScaler</label><div class=\"sk-toggleable__content\"><pre>StandardScaler()</pre></div></div></div></div></div></div><div class=\"sk-parallel-item\"><div class=\"sk-item\"><div class=\"sk-label-container\"><div class=\"sk-label sk-toggleable\"><input class=\"sk-toggleable__control sk-hidden--visually\" id=\"sk-estimator-id-115\" type=\"checkbox\" ><label for=\"sk-estimator-id-115\" class=\"sk-toggleable__label sk-toggleable__label-arrow\">remainder</label><div class=\"sk-toggleable__content\"><pre></pre></div></div></div><div class=\"sk-serial\"><div class=\"sk-item\"><div class=\"sk-estimator sk-toggleable\"><input class=\"sk-toggleable__control sk-hidden--visually\" id=\"sk-estimator-id-116\" type=\"checkbox\" ><label for=\"sk-estimator-id-116\" class=\"sk-toggleable__label sk-toggleable__label-arrow\">passthrough</label><div class=\"sk-toggleable__content\"><pre>passthrough</pre></div></div></div></div></div></div></div></div><div class=\"sk-item\"><div class=\"sk-estimator sk-toggleable\"><input class=\"sk-toggleable__control sk-hidden--visually\" id=\"sk-estimator-id-117\" type=\"checkbox\" ><label for=\"sk-estimator-id-117\" class=\"sk-toggleable__label sk-toggleable__label-arrow\">LinearRegression</label><div class=\"sk-toggleable__content\"><pre>LinearRegression()</pre></div></div></div></div></div></div></div>"
      ],
      "text/plain": [
       "Pipeline(steps=[('preprocessor',\n",
       "                 ColumnTransformer(remainder='passthrough',\n",
       "                                   transformers=[('ordinal', OrdinalEncoder(),\n",
       "                                                  ['Gender']),\n",
       "                                                 ('num', StandardScaler(),\n",
       "                                                  ['Age', 'Height', 'Weight',\n",
       "                                                   'Duration', 'Heart_Rate',\n",
       "                                                   'Body_Temp'])])),\n",
       "                ('model', LinearRegression())])"
      ]
     },
     "execution_count": 252,
     "metadata": {},
     "output_type": "execute_result"
    }
   ],
   "source": [
    "pipeline"
   ]
  },
  {
   "cell_type": "code",
   "execution_count": 253,
   "id": "46f9e36b-992e-49c3-aa00-c7790f8b7e23",
   "metadata": {},
   "outputs": [
    {
     "data": {
      "text/html": [
       "<style>#sk-container-id-14 {color: black;background-color: white;}#sk-container-id-14 pre{padding: 0;}#sk-container-id-14 div.sk-toggleable {background-color: white;}#sk-container-id-14 label.sk-toggleable__label {cursor: pointer;display: block;width: 100%;margin-bottom: 0;padding: 0.3em;box-sizing: border-box;text-align: center;}#sk-container-id-14 label.sk-toggleable__label-arrow:before {content: \"▸\";float: left;margin-right: 0.25em;color: #696969;}#sk-container-id-14 label.sk-toggleable__label-arrow:hover:before {color: black;}#sk-container-id-14 div.sk-estimator:hover label.sk-toggleable__label-arrow:before {color: black;}#sk-container-id-14 div.sk-toggleable__content {max-height: 0;max-width: 0;overflow: hidden;text-align: left;background-color: #f0f8ff;}#sk-container-id-14 div.sk-toggleable__content pre {margin: 0.2em;color: black;border-radius: 0.25em;background-color: #f0f8ff;}#sk-container-id-14 input.sk-toggleable__control:checked~div.sk-toggleable__content {max-height: 200px;max-width: 100%;overflow: auto;}#sk-container-id-14 input.sk-toggleable__control:checked~label.sk-toggleable__label-arrow:before {content: \"▾\";}#sk-container-id-14 div.sk-estimator input.sk-toggleable__control:checked~label.sk-toggleable__label {background-color: #d4ebff;}#sk-container-id-14 div.sk-label input.sk-toggleable__control:checked~label.sk-toggleable__label {background-color: #d4ebff;}#sk-container-id-14 input.sk-hidden--visually {border: 0;clip: rect(1px 1px 1px 1px);clip: rect(1px, 1px, 1px, 1px);height: 1px;margin: -1px;overflow: hidden;padding: 0;position: absolute;width: 1px;}#sk-container-id-14 div.sk-estimator {font-family: monospace;background-color: #f0f8ff;border: 1px dotted black;border-radius: 0.25em;box-sizing: border-box;margin-bottom: 0.5em;}#sk-container-id-14 div.sk-estimator:hover {background-color: #d4ebff;}#sk-container-id-14 div.sk-parallel-item::after {content: \"\";width: 100%;border-bottom: 1px solid gray;flex-grow: 1;}#sk-container-id-14 div.sk-label:hover label.sk-toggleable__label {background-color: #d4ebff;}#sk-container-id-14 div.sk-serial::before {content: \"\";position: absolute;border-left: 1px solid gray;box-sizing: border-box;top: 0;bottom: 0;left: 50%;z-index: 0;}#sk-container-id-14 div.sk-serial {display: flex;flex-direction: column;align-items: center;background-color: white;padding-right: 0.2em;padding-left: 0.2em;position: relative;}#sk-container-id-14 div.sk-item {position: relative;z-index: 1;}#sk-container-id-14 div.sk-parallel {display: flex;align-items: stretch;justify-content: center;background-color: white;position: relative;}#sk-container-id-14 div.sk-item::before, #sk-container-id-14 div.sk-parallel-item::before {content: \"\";position: absolute;border-left: 1px solid gray;box-sizing: border-box;top: 0;bottom: 0;left: 50%;z-index: -1;}#sk-container-id-14 div.sk-parallel-item {display: flex;flex-direction: column;z-index: 1;position: relative;background-color: white;}#sk-container-id-14 div.sk-parallel-item:first-child::after {align-self: flex-end;width: 50%;}#sk-container-id-14 div.sk-parallel-item:last-child::after {align-self: flex-start;width: 50%;}#sk-container-id-14 div.sk-parallel-item:only-child::after {width: 0;}#sk-container-id-14 div.sk-dashed-wrapped {border: 1px dashed gray;margin: 0 0.4em 0.5em 0.4em;box-sizing: border-box;padding-bottom: 0.4em;background-color: white;}#sk-container-id-14 div.sk-label label {font-family: monospace;font-weight: bold;display: inline-block;line-height: 1.2em;}#sk-container-id-14 div.sk-label-container {text-align: center;}#sk-container-id-14 div.sk-container {/* jupyter's `normalize.less` sets `[hidden] { display: none; }` but bootstrap.min.css set `[hidden] { display: none !important; }` so we also need the `!important` here to be able to override the default hidden behavior on the sphinx rendered scikit-learn.org. See: https://github.com/scikit-learn/scikit-learn/issues/21755 */display: inline-block !important;position: relative;}#sk-container-id-14 div.sk-text-repr-fallback {display: none;}</style><div id=\"sk-container-id-14\" class=\"sk-top-container\"><div class=\"sk-text-repr-fallback\"><pre>Pipeline(steps=[(&#x27;preprocessor&#x27;,\n",
       "                 ColumnTransformer(remainder=&#x27;passthrough&#x27;,\n",
       "                                   transformers=[(&#x27;ordinal&#x27;, OrdinalEncoder(),\n",
       "                                                  [&#x27;Gender&#x27;]),\n",
       "                                                 (&#x27;num&#x27;, StandardScaler(),\n",
       "                                                  [&#x27;Age&#x27;, &#x27;Height&#x27;, &#x27;Weight&#x27;,\n",
       "                                                   &#x27;Duration&#x27;, &#x27;Heart_Rate&#x27;,\n",
       "                                                   &#x27;Body_Temp&#x27;])])),\n",
       "                (&#x27;model&#x27;, LinearRegression())])</pre><b>In a Jupyter environment, please rerun this cell to show the HTML representation or trust the notebook. <br />On GitHub, the HTML representation is unable to render, please try loading this page with nbviewer.org.</b></div><div class=\"sk-container\" hidden><div class=\"sk-item sk-dashed-wrapped\"><div class=\"sk-label-container\"><div class=\"sk-label sk-toggleable\"><input class=\"sk-toggleable__control sk-hidden--visually\" id=\"sk-estimator-id-118\" type=\"checkbox\" ><label for=\"sk-estimator-id-118\" class=\"sk-toggleable__label sk-toggleable__label-arrow\">Pipeline</label><div class=\"sk-toggleable__content\"><pre>Pipeline(steps=[(&#x27;preprocessor&#x27;,\n",
       "                 ColumnTransformer(remainder=&#x27;passthrough&#x27;,\n",
       "                                   transformers=[(&#x27;ordinal&#x27;, OrdinalEncoder(),\n",
       "                                                  [&#x27;Gender&#x27;]),\n",
       "                                                 (&#x27;num&#x27;, StandardScaler(),\n",
       "                                                  [&#x27;Age&#x27;, &#x27;Height&#x27;, &#x27;Weight&#x27;,\n",
       "                                                   &#x27;Duration&#x27;, &#x27;Heart_Rate&#x27;,\n",
       "                                                   &#x27;Body_Temp&#x27;])])),\n",
       "                (&#x27;model&#x27;, LinearRegression())])</pre></div></div></div><div class=\"sk-serial\"><div class=\"sk-item sk-dashed-wrapped\"><div class=\"sk-label-container\"><div class=\"sk-label sk-toggleable\"><input class=\"sk-toggleable__control sk-hidden--visually\" id=\"sk-estimator-id-119\" type=\"checkbox\" ><label for=\"sk-estimator-id-119\" class=\"sk-toggleable__label sk-toggleable__label-arrow\">preprocessor: ColumnTransformer</label><div class=\"sk-toggleable__content\"><pre>ColumnTransformer(remainder=&#x27;passthrough&#x27;,\n",
       "                  transformers=[(&#x27;ordinal&#x27;, OrdinalEncoder(), [&#x27;Gender&#x27;]),\n",
       "                                (&#x27;num&#x27;, StandardScaler(),\n",
       "                                 [&#x27;Age&#x27;, &#x27;Height&#x27;, &#x27;Weight&#x27;, &#x27;Duration&#x27;,\n",
       "                                  &#x27;Heart_Rate&#x27;, &#x27;Body_Temp&#x27;])])</pre></div></div></div><div class=\"sk-parallel\"><div class=\"sk-parallel-item\"><div class=\"sk-item\"><div class=\"sk-label-container\"><div class=\"sk-label sk-toggleable\"><input class=\"sk-toggleable__control sk-hidden--visually\" id=\"sk-estimator-id-120\" type=\"checkbox\" ><label for=\"sk-estimator-id-120\" class=\"sk-toggleable__label sk-toggleable__label-arrow\">ordinal</label><div class=\"sk-toggleable__content\"><pre>[&#x27;Gender&#x27;]</pre></div></div></div><div class=\"sk-serial\"><div class=\"sk-item\"><div class=\"sk-estimator sk-toggleable\"><input class=\"sk-toggleable__control sk-hidden--visually\" id=\"sk-estimator-id-121\" type=\"checkbox\" ><label for=\"sk-estimator-id-121\" class=\"sk-toggleable__label sk-toggleable__label-arrow\">OrdinalEncoder</label><div class=\"sk-toggleable__content\"><pre>OrdinalEncoder()</pre></div></div></div></div></div></div><div class=\"sk-parallel-item\"><div class=\"sk-item\"><div class=\"sk-label-container\"><div class=\"sk-label sk-toggleable\"><input class=\"sk-toggleable__control sk-hidden--visually\" id=\"sk-estimator-id-122\" type=\"checkbox\" ><label for=\"sk-estimator-id-122\" class=\"sk-toggleable__label sk-toggleable__label-arrow\">num</label><div class=\"sk-toggleable__content\"><pre>[&#x27;Age&#x27;, &#x27;Height&#x27;, &#x27;Weight&#x27;, &#x27;Duration&#x27;, &#x27;Heart_Rate&#x27;, &#x27;Body_Temp&#x27;]</pre></div></div></div><div class=\"sk-serial\"><div class=\"sk-item\"><div class=\"sk-estimator sk-toggleable\"><input class=\"sk-toggleable__control sk-hidden--visually\" id=\"sk-estimator-id-123\" type=\"checkbox\" ><label for=\"sk-estimator-id-123\" class=\"sk-toggleable__label sk-toggleable__label-arrow\">StandardScaler</label><div class=\"sk-toggleable__content\"><pre>StandardScaler()</pre></div></div></div></div></div></div><div class=\"sk-parallel-item\"><div class=\"sk-item\"><div class=\"sk-label-container\"><div class=\"sk-label sk-toggleable\"><input class=\"sk-toggleable__control sk-hidden--visually\" id=\"sk-estimator-id-124\" type=\"checkbox\" ><label for=\"sk-estimator-id-124\" class=\"sk-toggleable__label sk-toggleable__label-arrow\">remainder</label><div class=\"sk-toggleable__content\"><pre>[]</pre></div></div></div><div class=\"sk-serial\"><div class=\"sk-item\"><div class=\"sk-estimator sk-toggleable\"><input class=\"sk-toggleable__control sk-hidden--visually\" id=\"sk-estimator-id-125\" type=\"checkbox\" ><label for=\"sk-estimator-id-125\" class=\"sk-toggleable__label sk-toggleable__label-arrow\">passthrough</label><div class=\"sk-toggleable__content\"><pre>passthrough</pre></div></div></div></div></div></div></div></div><div class=\"sk-item\"><div class=\"sk-estimator sk-toggleable\"><input class=\"sk-toggleable__control sk-hidden--visually\" id=\"sk-estimator-id-126\" type=\"checkbox\" ><label for=\"sk-estimator-id-126\" class=\"sk-toggleable__label sk-toggleable__label-arrow\">LinearRegression</label><div class=\"sk-toggleable__content\"><pre>LinearRegression()</pre></div></div></div></div></div></div></div>"
      ],
      "text/plain": [
       "Pipeline(steps=[('preprocessor',\n",
       "                 ColumnTransformer(remainder='passthrough',\n",
       "                                   transformers=[('ordinal', OrdinalEncoder(),\n",
       "                                                  ['Gender']),\n",
       "                                                 ('num', StandardScaler(),\n",
       "                                                  ['Age', 'Height', 'Weight',\n",
       "                                                   'Duration', 'Heart_Rate',\n",
       "                                                   'Body_Temp'])])),\n",
       "                ('model', LinearRegression())])"
      ]
     },
     "execution_count": 253,
     "metadata": {},
     "output_type": "execute_result"
    }
   ],
   "source": [
    "pipeline.fit(X_train,y_train)"
   ]
  },
  {
   "cell_type": "code",
   "execution_count": 254,
   "id": "4eea4b9f-9387-42a1-85d3-8000200a8b95",
   "metadata": {},
   "outputs": [],
   "source": [
    "y_pred = pipeline.predict(X_test)"
   ]
  },
  {
   "cell_type": "code",
   "execution_count": 255,
   "id": "f3e27f60-d995-400a-938c-828b529830fb",
   "metadata": {},
   "outputs": [],
   "source": [
    "from sklearn.metrics import r2_score"
   ]
  },
  {
   "cell_type": "code",
   "execution_count": 256,
   "id": "94054b75-8a9b-4959-b11c-b50bef4675dc",
   "metadata": {},
   "outputs": [
    {
     "data": {
      "text/plain": [
       "0.9672937151257295"
      ]
     },
     "execution_count": 256,
     "metadata": {},
     "output_type": "execute_result"
    }
   ],
   "source": [
    "r2_score(y_test,y_pred)"
   ]
  },
  {
   "cell_type": "code",
   "execution_count": 257,
   "id": "6aca08cf-b3c0-433c-993c-ed407f5aa85a",
   "metadata": {},
   "outputs": [],
   "source": [
    "from sklearn.model_selection import KFold"
   ]
  },
  {
   "cell_type": "code",
   "execution_count": 258,
   "id": "7f5834ec-0be2-4e6c-b38d-e318787a7f72",
   "metadata": {},
   "outputs": [],
   "source": [
    "kfold = KFold(n_splits=5, shuffle=True, random_state=42)"
   ]
  },
  {
   "cell_type": "code",
   "execution_count": 259,
   "id": "7056ed11-3115-48b5-9ec3-e24dde45fee9",
   "metadata": {},
   "outputs": [],
   "source": [
    "from sklearn.model_selection import cross_val_score"
   ]
  },
  {
   "cell_type": "code",
   "execution_count": 260,
   "id": "c9d18061-0dbe-4738-a717-521b310579d7",
   "metadata": {},
   "outputs": [],
   "source": [
    "cv_results = cross_val_score(pipeline, X, y, cv=kfold, scoring='r2')"
   ]
  },
  {
   "cell_type": "code",
   "execution_count": 261,
   "id": "61f91424-dc2b-4dba-b9f6-bfb8710fc314",
   "metadata": {},
   "outputs": [
    {
     "data": {
      "text/plain": [
       "0.9671402283675841"
      ]
     },
     "execution_count": 261,
     "metadata": {},
     "output_type": "execute_result"
    }
   ],
   "source": [
    "cv_results.mean()"
   ]
  },
  {
   "cell_type": "code",
   "execution_count": 262,
   "id": "111a6169-3e24-4c5a-a54a-bec6541c093b",
   "metadata": {},
   "outputs": [],
   "source": [
    "from sklearn.metrics import mean_absolute_error"
   ]
  },
  {
   "cell_type": "code",
   "execution_count": 263,
   "id": "0ee57dec-0512-4c8a-9396-7cf8d28e0dce",
   "metadata": {},
   "outputs": [
    {
     "data": {
      "text/plain": [
       "8.441513553849703"
      ]
     },
     "execution_count": 263,
     "metadata": {},
     "output_type": "execute_result"
    }
   ],
   "source": [
    "mean_absolute_error(y_test,y_pred)"
   ]
  },
  {
   "cell_type": "code",
   "execution_count": 264,
   "id": "a06295bd-7a17-4886-81d9-f8a4b6b02967",
   "metadata": {},
   "outputs": [],
   "source": [
    "def model_scorer(model_name,model):\n",
    "    \n",
    "    output=[]\n",
    "   \n",
    "    \n",
    "    output.append(model_name)\n",
    "    \n",
    "    pipeline = Pipeline([\n",
    "    ('preprocessor',preprocessor),\n",
    "    ('model',model)])\n",
    "    \n",
    "    X_train,X_test,y_train,y_test = train_test_split(X,y,test_size=0.20,random_state=42)\n",
    "    \n",
    "    pipeline.fit(X_train,y_train)\n",
    "    \n",
    "    y_pred = pipeline.predict(X_test)\n",
    "    \n",
    "    output.append(r2_score(y_test,y_pred))\n",
    "    output.append(mean_absolute_error(y_test,y_pred))\n",
    "    \n",
    "    kfold = KFold(n_splits=5, shuffle=True, random_state=42)\n",
    "    cv_results = cross_val_score(pipeline, X, y, cv=kfold, scoring='r2')\n",
    "    output.append(cv_results.mean())\n",
    "    \n",
    "    return output"
   ]
  },
  {
   "cell_type": "code",
   "execution_count": 265,
   "id": "ca22dda6-8843-4da3-8cf8-34a2a8235c2a",
   "metadata": {},
   "outputs": [],
   "source": [
    "model_dict={\n",
    "    'log':LinearRegression(),\n",
    "    'RF':RandomForestRegressor(),\n",
    "    'XGBR':XGBRegressor(),\n",
    "}"
   ]
  },
  {
   "cell_type": "code",
   "execution_count": 266,
   "id": "07054296-26f4-4fdb-8ed7-a91930cb3798",
   "metadata": {},
   "outputs": [],
   "source": [
    "model_output=[]\n",
    "for model_name,model in model_dict.items():\n",
    "    model_output.append(model_scorer(model_name,model))"
   ]
  },
  {
   "cell_type": "code",
   "execution_count": 267,
   "id": "540963c0-0e8e-4d41-8d23-94320ca28a0a",
   "metadata": {},
   "outputs": [
    {
     "data": {
      "text/plain": [
       "[['log', 0.9672937151257295, 8.441513553849703, 0.9671402283675841],\n",
       " ['RF', 0.9982576168748657, 1.6996433333333334, 0.9979291225290854],\n",
       " ['XGBR', 0.9988678909361673, 1.4981198125282924, 0.9988510864545181]]"
      ]
     },
     "execution_count": 267,
     "metadata": {},
     "output_type": "execute_result"
    }
   ],
   "source": [
    "model_output"
   ]
  },
  {
   "cell_type": "code",
   "execution_count": 268,
   "id": "2d9d3e0a-7048-468d-823c-0d49a83e0335",
   "metadata": {},
   "outputs": [],
   "source": [
    "preprocessor = ColumnTransformer(transformers=[\n",
    "    ('ordinal',OrdinalEncoder(),['Gender']),\n",
    "    ('num',StandardScaler(),['Age',\n",
    "                            'Height',\n",
    "                            'Weight',\n",
    "                            'Duration',\n",
    "                            'Heart_Rate',\n",
    "                            'Body_Temp']),\n",
    "    \n",
    "],remainder='passthrough')"
   ]
  },
  {
   "cell_type": "code",
   "execution_count": 269,
   "id": "be177b93-8b43-4ca2-ba83-fd341dc730d2",
   "metadata": {},
   "outputs": [],
   "source": [
    "ipeline = Pipeline([\n",
    "    ('preprocessor',preprocessor),\n",
    "    ('model',XGBRegressor())\n",
    "    \n",
    "])"
   ]
  },
  {
   "cell_type": "code",
   "execution_count": 270,
   "id": "1e9aaad3-6a12-46e6-bf99-6bc2bb7302e1",
   "metadata": {},
   "outputs": [
    {
     "data": {
      "text/html": [
       "<style>#sk-container-id-15 {color: black;background-color: white;}#sk-container-id-15 pre{padding: 0;}#sk-container-id-15 div.sk-toggleable {background-color: white;}#sk-container-id-15 label.sk-toggleable__label {cursor: pointer;display: block;width: 100%;margin-bottom: 0;padding: 0.3em;box-sizing: border-box;text-align: center;}#sk-container-id-15 label.sk-toggleable__label-arrow:before {content: \"▸\";float: left;margin-right: 0.25em;color: #696969;}#sk-container-id-15 label.sk-toggleable__label-arrow:hover:before {color: black;}#sk-container-id-15 div.sk-estimator:hover label.sk-toggleable__label-arrow:before {color: black;}#sk-container-id-15 div.sk-toggleable__content {max-height: 0;max-width: 0;overflow: hidden;text-align: left;background-color: #f0f8ff;}#sk-container-id-15 div.sk-toggleable__content pre {margin: 0.2em;color: black;border-radius: 0.25em;background-color: #f0f8ff;}#sk-container-id-15 input.sk-toggleable__control:checked~div.sk-toggleable__content {max-height: 200px;max-width: 100%;overflow: auto;}#sk-container-id-15 input.sk-toggleable__control:checked~label.sk-toggleable__label-arrow:before {content: \"▾\";}#sk-container-id-15 div.sk-estimator input.sk-toggleable__control:checked~label.sk-toggleable__label {background-color: #d4ebff;}#sk-container-id-15 div.sk-label input.sk-toggleable__control:checked~label.sk-toggleable__label {background-color: #d4ebff;}#sk-container-id-15 input.sk-hidden--visually {border: 0;clip: rect(1px 1px 1px 1px);clip: rect(1px, 1px, 1px, 1px);height: 1px;margin: -1px;overflow: hidden;padding: 0;position: absolute;width: 1px;}#sk-container-id-15 div.sk-estimator {font-family: monospace;background-color: #f0f8ff;border: 1px dotted black;border-radius: 0.25em;box-sizing: border-box;margin-bottom: 0.5em;}#sk-container-id-15 div.sk-estimator:hover {background-color: #d4ebff;}#sk-container-id-15 div.sk-parallel-item::after {content: \"\";width: 100%;border-bottom: 1px solid gray;flex-grow: 1;}#sk-container-id-15 div.sk-label:hover label.sk-toggleable__label {background-color: #d4ebff;}#sk-container-id-15 div.sk-serial::before {content: \"\";position: absolute;border-left: 1px solid gray;box-sizing: border-box;top: 0;bottom: 0;left: 50%;z-index: 0;}#sk-container-id-15 div.sk-serial {display: flex;flex-direction: column;align-items: center;background-color: white;padding-right: 0.2em;padding-left: 0.2em;position: relative;}#sk-container-id-15 div.sk-item {position: relative;z-index: 1;}#sk-container-id-15 div.sk-parallel {display: flex;align-items: stretch;justify-content: center;background-color: white;position: relative;}#sk-container-id-15 div.sk-item::before, #sk-container-id-15 div.sk-parallel-item::before {content: \"\";position: absolute;border-left: 1px solid gray;box-sizing: border-box;top: 0;bottom: 0;left: 50%;z-index: -1;}#sk-container-id-15 div.sk-parallel-item {display: flex;flex-direction: column;z-index: 1;position: relative;background-color: white;}#sk-container-id-15 div.sk-parallel-item:first-child::after {align-self: flex-end;width: 50%;}#sk-container-id-15 div.sk-parallel-item:last-child::after {align-self: flex-start;width: 50%;}#sk-container-id-15 div.sk-parallel-item:only-child::after {width: 0;}#sk-container-id-15 div.sk-dashed-wrapped {border: 1px dashed gray;margin: 0 0.4em 0.5em 0.4em;box-sizing: border-box;padding-bottom: 0.4em;background-color: white;}#sk-container-id-15 div.sk-label label {font-family: monospace;font-weight: bold;display: inline-block;line-height: 1.2em;}#sk-container-id-15 div.sk-label-container {text-align: center;}#sk-container-id-15 div.sk-container {/* jupyter's `normalize.less` sets `[hidden] { display: none; }` but bootstrap.min.css set `[hidden] { display: none !important; }` so we also need the `!important` here to be able to override the default hidden behavior on the sphinx rendered scikit-learn.org. See: https://github.com/scikit-learn/scikit-learn/issues/21755 */display: inline-block !important;position: relative;}#sk-container-id-15 div.sk-text-repr-fallback {display: none;}</style><div id=\"sk-container-id-15\" class=\"sk-top-container\"><div class=\"sk-text-repr-fallback\"><pre>Pipeline(steps=[(&#x27;preprocessor&#x27;,\n",
       "                 ColumnTransformer(remainder=&#x27;passthrough&#x27;,\n",
       "                                   transformers=[(&#x27;ordinal&#x27;, OrdinalEncoder(),\n",
       "                                                  [&#x27;Gender&#x27;]),\n",
       "                                                 (&#x27;num&#x27;, StandardScaler(),\n",
       "                                                  [&#x27;Age&#x27;, &#x27;Height&#x27;, &#x27;Weight&#x27;,\n",
       "                                                   &#x27;Duration&#x27;, &#x27;Heart_Rate&#x27;,\n",
       "                                                   &#x27;Body_Temp&#x27;])])),\n",
       "                (&#x27;model&#x27;, LinearRegression())])</pre><b>In a Jupyter environment, please rerun this cell to show the HTML representation or trust the notebook. <br />On GitHub, the HTML representation is unable to render, please try loading this page with nbviewer.org.</b></div><div class=\"sk-container\" hidden><div class=\"sk-item sk-dashed-wrapped\"><div class=\"sk-label-container\"><div class=\"sk-label sk-toggleable\"><input class=\"sk-toggleable__control sk-hidden--visually\" id=\"sk-estimator-id-127\" type=\"checkbox\" ><label for=\"sk-estimator-id-127\" class=\"sk-toggleable__label sk-toggleable__label-arrow\">Pipeline</label><div class=\"sk-toggleable__content\"><pre>Pipeline(steps=[(&#x27;preprocessor&#x27;,\n",
       "                 ColumnTransformer(remainder=&#x27;passthrough&#x27;,\n",
       "                                   transformers=[(&#x27;ordinal&#x27;, OrdinalEncoder(),\n",
       "                                                  [&#x27;Gender&#x27;]),\n",
       "                                                 (&#x27;num&#x27;, StandardScaler(),\n",
       "                                                  [&#x27;Age&#x27;, &#x27;Height&#x27;, &#x27;Weight&#x27;,\n",
       "                                                   &#x27;Duration&#x27;, &#x27;Heart_Rate&#x27;,\n",
       "                                                   &#x27;Body_Temp&#x27;])])),\n",
       "                (&#x27;model&#x27;, LinearRegression())])</pre></div></div></div><div class=\"sk-serial\"><div class=\"sk-item sk-dashed-wrapped\"><div class=\"sk-label-container\"><div class=\"sk-label sk-toggleable\"><input class=\"sk-toggleable__control sk-hidden--visually\" id=\"sk-estimator-id-128\" type=\"checkbox\" ><label for=\"sk-estimator-id-128\" class=\"sk-toggleable__label sk-toggleable__label-arrow\">preprocessor: ColumnTransformer</label><div class=\"sk-toggleable__content\"><pre>ColumnTransformer(remainder=&#x27;passthrough&#x27;,\n",
       "                  transformers=[(&#x27;ordinal&#x27;, OrdinalEncoder(), [&#x27;Gender&#x27;]),\n",
       "                                (&#x27;num&#x27;, StandardScaler(),\n",
       "                                 [&#x27;Age&#x27;, &#x27;Height&#x27;, &#x27;Weight&#x27;, &#x27;Duration&#x27;,\n",
       "                                  &#x27;Heart_Rate&#x27;, &#x27;Body_Temp&#x27;])])</pre></div></div></div><div class=\"sk-parallel\"><div class=\"sk-parallel-item\"><div class=\"sk-item\"><div class=\"sk-label-container\"><div class=\"sk-label sk-toggleable\"><input class=\"sk-toggleable__control sk-hidden--visually\" id=\"sk-estimator-id-129\" type=\"checkbox\" ><label for=\"sk-estimator-id-129\" class=\"sk-toggleable__label sk-toggleable__label-arrow\">ordinal</label><div class=\"sk-toggleable__content\"><pre>[&#x27;Gender&#x27;]</pre></div></div></div><div class=\"sk-serial\"><div class=\"sk-item\"><div class=\"sk-estimator sk-toggleable\"><input class=\"sk-toggleable__control sk-hidden--visually\" id=\"sk-estimator-id-130\" type=\"checkbox\" ><label for=\"sk-estimator-id-130\" class=\"sk-toggleable__label sk-toggleable__label-arrow\">OrdinalEncoder</label><div class=\"sk-toggleable__content\"><pre>OrdinalEncoder()</pre></div></div></div></div></div></div><div class=\"sk-parallel-item\"><div class=\"sk-item\"><div class=\"sk-label-container\"><div class=\"sk-label sk-toggleable\"><input class=\"sk-toggleable__control sk-hidden--visually\" id=\"sk-estimator-id-131\" type=\"checkbox\" ><label for=\"sk-estimator-id-131\" class=\"sk-toggleable__label sk-toggleable__label-arrow\">num</label><div class=\"sk-toggleable__content\"><pre>[&#x27;Age&#x27;, &#x27;Height&#x27;, &#x27;Weight&#x27;, &#x27;Duration&#x27;, &#x27;Heart_Rate&#x27;, &#x27;Body_Temp&#x27;]</pre></div></div></div><div class=\"sk-serial\"><div class=\"sk-item\"><div class=\"sk-estimator sk-toggleable\"><input class=\"sk-toggleable__control sk-hidden--visually\" id=\"sk-estimator-id-132\" type=\"checkbox\" ><label for=\"sk-estimator-id-132\" class=\"sk-toggleable__label sk-toggleable__label-arrow\">StandardScaler</label><div class=\"sk-toggleable__content\"><pre>StandardScaler()</pre></div></div></div></div></div></div><div class=\"sk-parallel-item\"><div class=\"sk-item\"><div class=\"sk-label-container\"><div class=\"sk-label sk-toggleable\"><input class=\"sk-toggleable__control sk-hidden--visually\" id=\"sk-estimator-id-133\" type=\"checkbox\" ><label for=\"sk-estimator-id-133\" class=\"sk-toggleable__label sk-toggleable__label-arrow\">remainder</label><div class=\"sk-toggleable__content\"><pre>[]</pre></div></div></div><div class=\"sk-serial\"><div class=\"sk-item\"><div class=\"sk-estimator sk-toggleable\"><input class=\"sk-toggleable__control sk-hidden--visually\" id=\"sk-estimator-id-134\" type=\"checkbox\" ><label for=\"sk-estimator-id-134\" class=\"sk-toggleable__label sk-toggleable__label-arrow\">passthrough</label><div class=\"sk-toggleable__content\"><pre>passthrough</pre></div></div></div></div></div></div></div></div><div class=\"sk-item\"><div class=\"sk-estimator sk-toggleable\"><input class=\"sk-toggleable__control sk-hidden--visually\" id=\"sk-estimator-id-135\" type=\"checkbox\" ><label for=\"sk-estimator-id-135\" class=\"sk-toggleable__label sk-toggleable__label-arrow\">LinearRegression</label><div class=\"sk-toggleable__content\"><pre>LinearRegression()</pre></div></div></div></div></div></div></div>"
      ],
      "text/plain": [
       "Pipeline(steps=[('preprocessor',\n",
       "                 ColumnTransformer(remainder='passthrough',\n",
       "                                   transformers=[('ordinal', OrdinalEncoder(),\n",
       "                                                  ['Gender']),\n",
       "                                                 ('num', StandardScaler(),\n",
       "                                                  ['Age', 'Height', 'Weight',\n",
       "                                                   'Duration', 'Heart_Rate',\n",
       "                                                   'Body_Temp'])])),\n",
       "                ('model', LinearRegression())])"
      ]
     },
     "execution_count": 270,
     "metadata": {},
     "output_type": "execute_result"
    }
   ],
   "source": [
    "pipeline.fit(X,y)"
   ]
  },
  {
   "cell_type": "code",
   "execution_count": 271,
   "id": "000cacde-3f98-4fb7-9452-f273cf592716",
   "metadata": {},
   "outputs": [],
   "source": [
    "sample = pd.DataFrame({\n",
    "   'Gender':'male',\n",
    "    'Age':68,\n",
    "    'Height':190.0,\n",
    "    'Weight':94.0,\n",
    "    'Duration':29.0,\n",
    "    'Heart_Rate':105.0,\n",
    "    'Body_Temp':40.8,\n",
    "},index=[0])"
   ]
  },
  {
   "cell_type": "code",
   "execution_count": 272,
   "id": "717ee4da-56c2-4c6a-91ec-4091e378756c",
   "metadata": {},
   "outputs": [
    {
     "data": {
      "text/plain": [
       "array([199.57081917])"
      ]
     },
     "execution_count": 272,
     "metadata": {},
     "output_type": "execute_result"
    }
   ],
   "source": [
    "pipeline.predict(sample)"
   ]
  },
  {
   "cell_type": "code",
   "execution_count": 273,
   "id": "7116ab61-02de-4cd1-87c9-2cf494337c64",
   "metadata": {},
   "outputs": [],
   "source": [
    "#Save the model\n",
    "import pickle\n",
    "\n",
    " "
   ]
  },
  {
   "cell_type": "code",
   "execution_count": 274,
   "id": "e30c4b40-4854-4b9f-ade3-b9bdc4a1239e",
   "metadata": {},
   "outputs": [],
   "source": [
    "with open('pipeline.pkl','wb') as f:\n",
    "    pickle.dump(pipeline,f)"
   ]
  },
  {
   "cell_type": "code",
   "execution_count": 275,
   "id": "6d5a09dd-9bc9-45df-8c63-1c75c981d641",
   "metadata": {},
   "outputs": [],
   "source": [
    "with open('pipeline.pkl','rb') as f:\n",
    "    pipeline_saved = pickle.load(f)\n"
   ]
  },
  {
   "cell_type": "code",
   "execution_count": 276,
   "id": "c3289aff-61a3-4a02-97b7-6a38e8068a9b",
   "metadata": {},
   "outputs": [],
   "source": [
    "result = pipeline_saved.predict(sample)"
   ]
  },
  {
   "cell_type": "code",
   "execution_count": 277,
   "id": "1b6d1970-13d8-49d6-9372-31f91d873c73",
   "metadata": {},
   "outputs": [
    {
     "data": {
      "text/plain": [
       "array([199.57081917])"
      ]
     },
     "execution_count": 277,
     "metadata": {},
     "output_type": "execute_result"
    }
   ],
   "source": [
    "result "
   ]
  },
  {
   "cell_type": "code",
   "execution_count": 37,
   "id": "4ecc8b25-af09-4b9c-89f1-07984071a234",
   "metadata": {},
   "outputs": [
    {
     "name": "stdout",
     "output_type": "stream",
     "text": [
      "[231.57081917]\n"
     ]
    }
   ],
   "source": [
    "#GUI\n",
    "import pickle\n",
    "import pandas as pd\n",
    "from tkinter import *\n",
    "\n",
    "def show_entry():\n",
    "    \n",
    "    with open('pipeline.pkl','rb') as f:\n",
    "        pipeline = pickle.load(f)\n",
    "\n",
    "    p1 = str(clicked.get())\n",
    "    p2 = float(e2.get())\n",
    "    p3 = float(e3.get())\n",
    "    p4 = float(e4.get())\n",
    "    p5 = float(e5.get())\n",
    "    p6 = float(e6.get())\n",
    "    p7 = float(e7.get())\n",
    "\n",
    "    sample = pd.DataFrame({\n",
    "    'Gender':[p1],\n",
    "    'Age':[p2],\n",
    "    'Height':[p3],\n",
    "    'Weight':[p4],\n",
    "    'Duration':[p5],\n",
    "    'Heart_Rate':[p6],\n",
    "    'Body_Temp':[p7],\n",
    "},index=[0])\n",
    "\n",
    "    result = pipeline.predict(sample)+32\n",
    "    print(result)\n",
    "    Label(master, text=\"Amount of Calories Burnt\",bg=\"black\",fg=\"white\").grid(row=13)\n",
    "    Label(master, text=result[0],bg=\"black\",fg=\"white\").grid(row=14)\n",
    "        \n",
    "    \n",
    "master =Tk()\n",
    "master.title(\"Calorie Calculator\")\n",
    "master.minsize(400,300)\n",
    "master.configure(bg=\"#1E1E1E\")\n",
    "master.iconbitmap(\"icon.png\")\n",
    "label = Label(master,text = \"Calories Burnt Prediction\",bg = \"#1E1E1E\",\n",
    "               fg = \"#FFFFFF\",padx=100,pady=10,font=(\"Arial\",30)).grid(row=0,columnspan=2)\n",
    "\n",
    "Label(master,text = \"Select Gender\",bg=\"#1E1E1E\",fg=\"white\",pady=15,font=(\"Roboto\",15)).grid(row=1)\n",
    "Label(master,text = \"Enter Your Age\",bg=\"#1E1E1E\",fg=\"white\",pady=15,font=(\"cooper\",15)).grid(row=2)\n",
    "Label(master,text = \"Enter Your Height\",bg=\"#1E1E1E\",fg=\"white\",pady=15,font=(\"cooper\",15)).grid(row=3)\n",
    "Label(master,text = \"Enter Your Weight\",bg=\"#1E1E1E\",fg=\"white\",pady=15,font=(\"cooper\",15)).grid(row=4)\n",
    "Label(master,text = \"Duration\",bg=\"#1E1E1E\",fg=\"white\",pady=15,font=(\"cooper\",15)).grid(row=5)\n",
    "Label(master,text = \"Heart Rate\",bg=\"#1E1E1E\",fg=\"white\",pady=15,font=(\"cooper\",15)).grid(row=6)\n",
    "Label(master,text = \"Body Temp\",bg=\"#1E1E1E\",fg=\"white\",pady=15,font=(\"cooper\",15)).grid(row=7)\n",
    "\n",
    "clicked = StringVar()\n",
    "options = ['male', 'female']\n",
    "\n",
    "e1 = OptionMenu(master, clicked , *options)\n",
    "e1.configure(width=10,bg=\"#2D2D2D\",fg=\"white\")\n",
    "e1[\"menu\"].configure(bg=\"#2D2D2D\",fg=\"white\")\n",
    "e2 = Entry(master,bg=\"#2D2D2D\",fg=\"white\")\n",
    "e3 = Entry(master,bg=\"#2D2D2D\",fg=\"white\")\n",
    "e4 = Entry(master,bg=\"#2D2D2D\",fg=\"white\")\n",
    "e5 = Entry(master,bg=\"#2D2D2D\",fg=\"white\")\n",
    "e6 = Entry(master,bg=\"#2D2D2D\",fg=\"white\")\n",
    "e7 = Entry(master,bg=\"#2D2D2D\",fg=\"white\")\n",
    "\n",
    "\n",
    "e1.grid(row=1,column=1)\n",
    "e2.grid(row=2,column=1)\n",
    "e3.grid(row=3,column=1)\n",
    "e4.grid(row=4,column=1)\n",
    "e5.grid(row=5,column=1)\n",
    "e6.grid(row=6,column=1)\n",
    "e7.grid(row=7,column=1)\n",
    "\n",
    "\n",
    "\n",
    "Button(master,text=\"Predict\",bg=\"#2D2D2D\",fg=\"white\",command=show_entry).grid()\n",
    "\n",
    "mainloop()\n"
   ]
  },
  {
   "cell_type": "code",
   "execution_count": null,
   "id": "d592d359-93bd-43bd-8ba4-d172c8519240",
   "metadata": {},
   "outputs": [],
   "source": []
  },
  {
   "cell_type": "code",
   "execution_count": null,
   "id": "f0608930-3d02-4eb7-b62c-6d3b5793a0cf",
   "metadata": {},
   "outputs": [],
   "source": []
  },
  {
   "cell_type": "code",
   "execution_count": null,
   "id": "3a1a3d24-ca52-49a4-b6f4-9db0819d64bd",
   "metadata": {},
   "outputs": [],
   "source": []
  }
 ],
 "metadata": {
  "kernelspec": {
   "display_name": "Python 3 (ipykernel)",
   "language": "python",
   "name": "python3"
  },
  "language_info": {
   "codemirror_mode": {
    "name": "ipython",
    "version": 3
   },
   "file_extension": ".py",
   "mimetype": "text/x-python",
   "name": "python",
   "nbconvert_exporter": "python",
   "pygments_lexer": "ipython3",
   "version": "3.11.7"
  }
 },
 "nbformat": 4,
 "nbformat_minor": 5
}
